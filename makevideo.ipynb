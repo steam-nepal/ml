{
 "cells": [
  {
   "cell_type": "code",
   "execution_count": 3,
   "metadata": {
    "metadata": {}
   },
   "outputs": [
    {
     "name": "stdout",
     "output_type": "stream",
     "text": [
      "E: Could not open lock file /var/lib/dpkg/lock-frontend - open (13: Permission denied)\n",
      "E: Unable to acquire the dpkg frontend lock (/var/lib/dpkg/lock-frontend), are you root?\n"
     ]
    }
   ],
   "source": [
    "!apt-get install -qq sox libcairo2 libpango1.0-dev ffmpeg > /dev/null"
   ]
  },
  {
   "cell_type": "code",
   "execution_count": null,
   "metadata": {},
   "outputs": [],
   "source": [
    "from manim import *\n",
    "\n",
    "class DerivativePowerRule(Scene):\n",
    "    def construct(self):\n",
    "        # Set up the function\n",
    "        func = TexText(r\"$f(x) = x^3 + 2x^2 - 3x$\")\n",
    "        func.shift(UP)\n",
    "        self.play(Write(func))\n",
    "        self.wait()\n",
    "\n",
    "        # Derivative using the power rule\n",
    "        step1 = TexText(r\"$f'(x) = \\lim_{ {h} \\\\rightarrow 0} \\\\frac{f(x+h) - f(x)}{h}$\")\n",
    "        step1.shift(DOWN * 2)\n",
    "        self.play(Write(step1))\n",
    "        self.wait()\n",
    "\n",
    "        step2 = TexText(r\"$f'(x) = \\lim_{ {h} \\\\rightarrow 0} \\\\frac{(x+h)^3 + 2(x+h)^2 - 3(x+h) - (x^3 + 2x^2 - 3x)}{h}$\", tex_to_color_map={\"{h}\": YELLOW})\n",
    "        step2.shift(DOWN * 2)\n",
    "        self.play(TransformMatchingTex(step1, step2))\n",
    "        self.wait()\n",
    "\n",
    "        step3 = TexText(r\"$f'(x) = \\lim_{ {h} \\\\rightarrow 0} \\\\frac{x^3 + 3x^2h + 3xh^2 + h^3 + 2x^2 + 4xh + 2h^2 - 3x - 3h - x^3 - 2x^2 + 3x}{h}$\", tex_to_color_map={\"{h}\": YELLOW})\n",
    "        step3.shift(DOWN * 2)\n",
    "        self.play(TransformMatchingTex(step2, step3))\n",
    "        self.wait()\n",
    "\n",
    "        step4 = TexText(r\"$f'(x) = \\lim_{ {h} \\\\rightarrow 0} \\\\frac{3x^2h + 3xh^2 + h^3 + 4xh + 2h^2 - 3h}{h}$\", tex_to_color_map={\"{h}\": YELLOW})\n",
    "        step4.shift(DOWN * 2)\n",
    "        self.play(TransformMatchingTex(step3, step4))\n",
    "        self.wait()\n",
    "\n",
    "        step5 = TexText(r\"$f'(x) = \\lim_{ {h} \\\\rightarrow 0} h^2(3x^2 + 3x + 1) + h(4x + 2 - 3)$\", tex_to_color_map={\"{h}\": YELLOW})\n",
    "        step5.shift(DOWN * 2)\n",
    "        self.play(TransformMatchingTex(step4, step5))\n",
    "        self.wait()\n",
    "\n",
    "        step6 = TexText(r\"$f'(x) = 3x^2 + 3x + 1 + 4x + 2 - 3$\", tex_to_color_map={\"{h}\": YELLOW})\n",
    "        step6.shift(DOWN * 2)\n",
    "        self.play(TransformMatchingTex(step5, step6))\n",
    "        self.wait()\n",
    "\n",
    "        step7 = TexText(r\"$f'(x) = 3x^2 + 4x - 3$\", tex_to_color_map={\"{h}\": YELLOW})\n",
    "        step7.shift(DOWN * 2)\n",
    "        self.play(TransformMatchingTex(step6, step7))\n",
    "        self.wait(2)\n",
    "\n",
    "        self.play(FadeOut(func), FadeOut(step7))"
   ]
  }
 ],
 "metadata": {
  "kernelspec": {
   "display_name": "Python 3",
   "language": "python",
   "name": "python3"
  },
  "language_info": {
   "codemirror_mode": {
    "name": "ipython",
    "version": 3
   },
   "file_extension": ".py",
   "mimetype": "text/x-python",
   "name": "python",
   "nbconvert_exporter": "python",
   "pygments_lexer": "ipython3",
   "version": "3.10.12"
  }
 },
 "nbformat": 4,
 "nbformat_minor": 2
}
