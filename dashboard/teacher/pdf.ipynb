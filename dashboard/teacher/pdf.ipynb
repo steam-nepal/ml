{
 "cells": [
  {
   "cell_type": "markdown",
   "metadata": {},
   "source": [
    "Create a pdf making pipeline from the llm and save in the database"
   ]
  },
  {
   "cell_type": "code",
   "execution_count": 18,
   "metadata": {},
   "outputs": [
    {
     "name": "stdout",
     "output_type": "stream",
     "text": [
      "Laurie Voss is a well-known American art director, production designer, and artist. She has worked extensively in the film and television industry, creating visual effects for various productions.\n",
      "\n",
      "Voss is perhaps best known for her work on the popular TV series \"Star Trek: The Next Generation,\" where she served as an art director and production designer. Her contributions to the show's distinctive look and feel have earned her a reputation as one of the most skilled and respected professionals in the industry.\n",
      "\n",
      "In addition to her television work, Voss has also been involved in various other projects, including commercials, music videos, and even theme park attractions. She has worked with a range of clients, from major film studios to independent filmmakers, and has developed a wide range of skills as a result.\n",
      "\n",
      "Voss is widely recognized for her attention to detail, creativity, and ability to bring unique visions to life through her art direction and production design work. Her dedication to her craft and the many notable projects she has been involved with have earned her a strong reputation within the industry and beyond."
     ]
    }
   ],
   "source": [
    "# Just runs .complete to make sure the LLM is listening\n",
    "from llama_index.llms.ollama import Ollama\n",
    "\n",
    "llm = Ollama(model=\"llama3\")\n",
    "response = llm.stream_complete(\"\")\n",
    "for r in response:\n",
    "    print(r.delta, end=\"\")"
   ]
  },
  {
   "cell_type": "code",
   "execution_count": 10,
   "metadata": {
    "metadata": {}
   },
   "outputs": [],
   "source": [
    "text = '''\n",
    "**Storyline:**\n",
    "\n",
    "Imagine you're at a theme park, and your friend, Alex, just won a pair of \n",
    "roller coaster tickets in a game. The roller coaster is called \"Projectile\n",
    "Pandemonium,\" and it's an intense ride that simulates the motion of \n",
    "projectiles. As you wait in line, Alex explains the physics behind the \n",
    "ride to you.\n",
    "\n",
    "**Text:**\n",
    "\n",
    "---\n",
    "\n",
    "### Introduction\n",
    "\n",
    "Projectiles are objects that move through the air or space under the \n",
    "influence of gravity. We've all seen projectiles in action - from a \n",
    "baseball soaring through the air to a rocket blasting off into space. In \n",
    "this lesson, we'll explore the basics of projectile motion and how it \n",
    "applies to our daily lives.\n",
    "\n",
    "### What is Projectile Motion?\n",
    "\n",
    "Projectile motion is the study of objects that move under the influence of\n",
    "gravity. It's a fundamental concept in physics that helps us understand \n",
    "many natural phenomena, from the flight of birds to the trajectory of \n",
    "bullets.\n",
    "\n",
    "### The Five Key Factors\n",
    "\n",
    "To fully grasp projectile motion, we need to consider five key factors:\n",
    "\n",
    "1. **Initial Velocity**: The speed at which an object starts moving.\n",
    "2. **Angle of Projection**: The angle at which an object is thrown or \n",
    "launched.\n",
    "3. **Gravity**: The force that pulls objects towards the ground.\n",
    "4. **Time**: How long it takes for the projectile to reach its maximum \n",
    "height.\n",
    "5. **Range**: The distance traveled by the projectile from launch to \n",
    "impact.\n",
    "\n",
    "### Equations of Motion\n",
    "\n",
    "Now that we've covered the basics, let's dive into some equations! These \n",
    "will help us predict where projectiles land and how high they fly.\n",
    "\n",
    "* **Initial Velocity (v0)**: v0 = √(2\\*h/g) where h is the initial height \n",
    "and g is the acceleration due to gravity.\n",
    "* **Range (R)**: R = (v0^2 \\* sin(2θ)) / g where θ is the angle of \n",
    "projection.\n",
    "* **Maximum Height (h_max)**: h_max = (v0^2 \\* sin^2(θ)) / (2\\*g)\n",
    "\n",
    "### Quizzes and Problems\n",
    "\n",
    "Now it's your turn to practice what you've learned! Try solving these \n",
    "quizzes and problems:\n",
    "\n",
    "1. A baseball is thrown at an angle of 45° with an initial velocity of 90 \n",
    "km/h. How far does it travel?\n",
    "\t* Answer: R = (90^2 \\* sin(90)) / 9.8 ≈ 123.5 meters\n",
    "2. A bullet is fired from a gun at an angle of 30° with an initial \n",
    "velocity of 250 m/s. What's its maximum height?\n",
    "\t* Answer: h_max = (250^2 \\* sin^2(30)) / (2\\*9.8) ≈ 43.5 meters\n",
    "\n",
    "### Conclusion\n",
    "\n",
    "And that's it! You now have a solid understanding of projectile motion and\n",
    "how to apply it to real-world scenarios. Remember, the next time you watch\n",
    "a rocket soar into space or a baseball sail through the air, you can \n",
    "appreciate the physics behind it.\n",
    "\n",
    "'''"
   ]
  },
  {
   "cell_type": "code",
   "execution_count": 11,
   "metadata": {
    "metadata": {}
   },
   "outputs": [
    {
     "name": "stdout",
     "output_type": "stream",
     "text": [
      "PDF created successfully!\n"
     ]
    }
   ],
   "source": [
    "import pdfkit\n",
    "import markdown\n",
    "\n",
    "# Convert Markdown to HTML\n",
    "html_text = markdown.markdown(text)\n",
    "\n",
    "# Create a PDF file\n",
    "\n",
    "pdfkit.from_string(html_text, 'projectile_motion.pdf')\n",
    "    \n",
    "\n",
    "print(\"PDF created successfully!\")\n"
   ]
  },
  {
   "cell_type": "code",
   "execution_count": 4,
   "metadata": {},
   "outputs": [
    {
     "ename": "SyntaxError",
     "evalue": "unexpected character after line continuation character (788412908.py, line 7)",
     "output_type": "error",
     "traceback": [
      "\u001b[0;36m  Cell \u001b[0;32mIn[4], line 7\u001b[0;36m\u001b[0m\n\u001b[0;31m    y = [ v0^2 \\* sin(2θ) / g for _ in x ]\u001b[0m\n\u001b[0m                ^\u001b[0m\n\u001b[0;31mSyntaxError\u001b[0m\u001b[0;31m:\u001b[0m unexpected character after line continuation character\n"
     ]
    }
   ],
   "source": [
    "import matplotlib.pyplot as plt\n",
    "\n",
    "# Define the x-axis values (time)\n",
    "x = range(0, 10)\n",
    "\n",
    "# Define the y-axis values (height)\n",
    "y = [ v0^2 \\* sin(2θ) / g for _ in x ]\n",
    "\n",
    "plt.plot(x, y)\n",
    "plt.xlabel('Time (s)')\n",
    "plt.ylabel('Height (m)')\n",
    "plt.title('Projectile Motion Plot')\n",
    "plt.show()\n",
    "\n"
   ]
  },
  {
   "cell_type": "markdown",
   "metadata": {},
   "source": []
  },
  {
   "cell_type": "code",
   "execution_count": null,
   "metadata": {},
   "outputs": [],
   "source": [
    "# Convert Markdown to HTML\n",
    "html_text = markdown.markdown(text)\n",
    "\n",
    "# Create a PDF file\n",
    "pdfkit.from_string(html_text, 'projectile_motion.pdf')\n"
   ]
  }
 ],
 "metadata": {
  "kernelspec": {
   "display_name": "Python 3",
   "language": "python",
   "name": "python3"
  },
  "language_info": {
   "codemirror_mode": {
    "name": "ipython",
    "version": 3
   },
   "file_extension": ".py",
   "mimetype": "text/x-python",
   "name": "python",
   "nbconvert_exporter": "python",
   "pygments_lexer": "ipython3",
   "version": "3.10.12"
  }
 },
 "nbformat": 4,
 "nbformat_minor": 2
}
