{
 "cells": [
  {
   "cell_type": "code",
   "execution_count": null,
   "metadata": {},
   "outputs": [],
   "source": [
    "!pip install -q pypdf\n",
    "!pip install torch\n",
    "!pip install -q transformers\n",
    "!pip -q install sentence-transformers\n",
    "!pip install -q llama-index"
   ]
  },
  {
   "cell_type": "code",
   "execution_count": null,
   "metadata": {
    "metadata": {}
   },
   "outputs": [],
   "source": [
    "from llama_index.core import SimpleDirectoryReader\n",
    "from llama_index import Document\n",
    "\n",
    "documents = SimpleDirectoryReader(\n",
    "    input_files = [\"./documents/survey_on_llms.pdf\"]\n",
    ").load_data()\n",
    "\n",
    "documents = Document(text = \"\\n\\n\".join([doc.text for doc in documents]))"
   ]
  },
  {
   "cell_type": "code",
   "execution_count": null,
   "metadata": {},
   "outputs": [],
   "source": [
    "import os\n",
    "from llama_index.node_parser import SentenceWindowNodeParser\n",
    "from llama_index import VectorStoreIndex, ServiceContext, load_index_from_storage\n",
    "def get_build_index(documents,llm,embed_model=\"local:BAAI/bge-small-en-v1.5\",sentence_window_size=3,save_dir=\"./vector_store/index\"):\n",
    "  \n",
    "  node_parser = SentenceWindowNodeParser(\n",
    "      window_size = sentence_window_size,\n",
    "      window_metadata_key = \"window\",\n",
    "      original_text_metadata_key = \"original_text\"\n",
    "  )\n",
    "\n",
    "  sentence_context = ServiceContext.from_defaults(\n",
    "      llm = llm,\n",
    "      embed_model= embed_model,\n",
    "      node_parser = node_parser,\n",
    "  )\n",
    "\n",
    "  if not os.path.exists(save_dir):\n",
    "        # create and load the index\n",
    "        index = VectorStoreIndex.from_documents(\n",
    "            [documents], service_context=sentence_context\n",
    "        )\n",
    "        index.storage_context.persist(persist_dir=save_dir)\n",
    "  else:\n",
    "      # load the existing index\n",
    "      index = load_index_from_storage(\n",
    "          StorageContext.from_defaults(persist_dir=save_dir),\n",
    "          service_context=sentence_context,\n",
    "      )\n",
    "\n",
    "  return index"
   ]
  }
 ],
 "metadata": {
  "kernelspec": {
   "display_name": "Python 3",
   "language": "python",
   "name": "python3"
  },
  "language_info": {
   "codemirror_mode": {
    "name": "ipython",
    "version": 3
   },
   "file_extension": ".py",
   "mimetype": "text/x-python",
   "name": "python",
   "nbconvert_exporter": "python",
   "pygments_lexer": "ipython3",
   "version": "3.10.12"
  }
 },
 "nbformat": 4,
 "nbformat_minor": 2
}
