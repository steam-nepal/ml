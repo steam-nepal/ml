{
 "cells": [
  {
   "cell_type": "code",
   "execution_count": null,
   "metadata": {},
   "outputs": [],
   "source": []
  },
  {
   "cell_type": "markdown",
   "metadata": {},
   "source": [
    "Create a pdf making pipeline from the llm and save in the database"
   ]
  },
  {
   "cell_type": "code",
   "execution_count": 6,
   "metadata": {
    "metadata": {}
   },
   "outputs": [],
   "source": [
    "text = '''\n",
    "**Storyline:**\n",
    "\n",
    "Imagine you're at a theme park, and your friend, Alex, just won a pair of \n",
    "roller coaster tickets in a game. The roller coaster is called \"Projectile\n",
    "Pandemonium,\" and it's an intense ride that simulates the motion of \n",
    "projectiles. As you wait in line, Alex explains the physics behind the \n",
    "ride to you.\n",
    "\n",
    "**Text:**\n",
    "\n",
    "---\n",
    "\n",
    "### Introduction\n",
    "\n",
    "Projectiles are objects that move through the air or space under the \n",
    "influence of gravity. We've all seen projectiles in action - from a \n",
    "baseball soaring through the air to a rocket blasting off into space. In \n",
    "this lesson, we'll explore the basics of projectile motion and how it \n",
    "applies to our daily lives.\n",
    "\n",
    "### What is Projectile Motion?\n",
    "\n",
    "Projectile motion is the study of objects that move under the influence of\n",
    "gravity. It's a fundamental concept in physics that helps us understand \n",
    "many natural phenomena, from the flight of birds to the trajectory of \n",
    "bullets.\n",
    "\n",
    "### The Five Key Factors\n",
    "\n",
    "To fully grasp projectile motion, we need to consider five key factors:\n",
    "\n",
    "1. **Initial Velocity**: The speed at which an object starts moving.\n",
    "2. **Angle of Projection**: The angle at which an object is thrown or \n",
    "launched.\n",
    "3. **Gravity**: The force that pulls objects towards the ground.\n",
    "4. **Time**: How long it takes for the projectile to reach its maximum \n",
    "height.\n",
    "5. **Range**: The distance traveled by the projectile from launch to \n",
    "impact.\n",
    "\n",
    "### Equations of Motion\n",
    "\n",
    "Now that we've covered the basics, let's dive into some equations! These \n",
    "will help us predict where projectiles land and how high they fly.\n",
    "\n",
    "* **Initial Velocity (v0)**: v0 = √(2\\*h/g) where h is the initial height \n",
    "and g is the acceleration due to gravity.\n",
    "* **Range (R)**: R = (v0^2 \\* sin(2θ)) / g where θ is the angle of \n",
    "projection.\n",
    "* **Maximum Height (h_max)**: h_max = (v0^2 \\* sin^2(θ)) / (2\\*g)\n",
    "\n",
    "### Quizzes and Problems\n",
    "\n",
    "Now it's your turn to practice what you've learned! Try solving these \n",
    "quizzes and problems:\n",
    "\n",
    "1. A baseball is thrown at an angle of 45° with an initial velocity of 90 \n",
    "km/h. How far does it travel?\n",
    "\t* Answer: R = (90^2 \\* sin(90)) / 9.8 ≈ 123.5 meters\n",
    "2. A bullet is fired from a gun at an angle of 30° with an initial \n",
    "velocity of 250 m/s. What's its maximum height?\n",
    "\t* Answer: h_max = (250^2 \\* sin^2(30)) / (2\\*9.8) ≈ 43.5 meters\n",
    "\n",
    "### Conclusion\n",
    "\n",
    "And that's it! You now have a solid understanding of projectile motion and\n",
    "how to apply it to real-world scenarios. Remember, the next time you watch\n",
    "a rocket soar into space or a baseball sail through the air, you can \n",
    "appreciate the physics behind it.\n",
    "\n",
    "'''"
   ]
  },
  {
   "cell_type": "code",
   "execution_count": 17,
   "metadata": {
    "metadata": {}
   },
   "outputs": [
    {
     "ename": "OSError",
     "evalue": "No wkhtmltopdf executable found: \"b''\"\nIf this file exists please check that this process can read it or you can pass path to it manually in method call, check README. Otherwise please install wkhtmltopdf - https://github.com/JazzCore/python-pdfkit/wiki/Installing-wkhtmltopdf",
     "output_type": "error",
     "traceback": [
      "\u001b[0;31m---------------------------------------------------------------------------\u001b[0m",
      "\u001b[0;31mFileNotFoundError\u001b[0m                         Traceback (most recent call last)",
      "File \u001b[0;32m~/.local/lib/python3.10/site-packages/pdfkit/configuration.py:35\u001b[0m, in \u001b[0;36mConfiguration.__init__\u001b[0;34m(self, wkhtmltopdf, meta_tag_prefix, environ)\u001b[0m\n\u001b[1;32m     33\u001b[0m     \u001b[38;5;28mself\u001b[39m\u001b[38;5;241m.\u001b[39mwkhtmltopdf \u001b[38;5;241m=\u001b[39m lines[\u001b[38;5;241m0\u001b[39m]\u001b[38;5;241m.\u001b[39mstrip()\n\u001b[0;32m---> 35\u001b[0m \u001b[38;5;28;01mwith\u001b[39;00m \u001b[38;5;28;43mopen\u001b[39;49m\u001b[43m(\u001b[49m\u001b[38;5;28;43mself\u001b[39;49m\u001b[38;5;241;43m.\u001b[39;49m\u001b[43mwkhtmltopdf\u001b[49m\u001b[43m)\u001b[49m \u001b[38;5;28;01mas\u001b[39;00m f:\n\u001b[1;32m     36\u001b[0m     \u001b[38;5;28;01mpass\u001b[39;00m\n",
      "\u001b[0;31mFileNotFoundError\u001b[0m: [Errno 2] No such file or directory: b''",
      "\nDuring handling of the above exception, another exception occurred:\n",
      "\u001b[0;31mOSError\u001b[0m                                   Traceback (most recent call last)",
      "Cell \u001b[0;32mIn[17], line 9\u001b[0m\n\u001b[1;32m      5\u001b[0m html_text \u001b[38;5;241m=\u001b[39m markdown\u001b[38;5;241m.\u001b[39mmarkdown(text)\n\u001b[1;32m      7\u001b[0m \u001b[38;5;66;03m# Create a PDF file\u001b[39;00m\n\u001b[0;32m----> 9\u001b[0m \u001b[43mpdfkit\u001b[49m\u001b[38;5;241;43m.\u001b[39;49m\u001b[43mfrom_string\u001b[49m\u001b[43m(\u001b[49m\u001b[43mhtml_text\u001b[49m\u001b[43m,\u001b[49m\u001b[43m \u001b[49m\u001b[38;5;124;43m'\u001b[39;49m\u001b[38;5;124;43mprojectile_motion.pdf\u001b[39;49m\u001b[38;5;124;43m'\u001b[39;49m\u001b[43m)\u001b[49m\n\u001b[1;32m     12\u001b[0m \u001b[38;5;28mprint\u001b[39m(\u001b[38;5;124m\"\u001b[39m\u001b[38;5;124mPDF created successfully!\u001b[39m\u001b[38;5;124m\"\u001b[39m)\n",
      "File \u001b[0;32m~/.local/lib/python3.10/site-packages/pdfkit/api.py:72\u001b[0m, in \u001b[0;36mfrom_string\u001b[0;34m(input, output_path, options, toc, cover, css, configuration, cover_first, verbose)\u001b[0m\n\u001b[1;32m     54\u001b[0m \u001b[38;5;28;01mdef\u001b[39;00m \u001b[38;5;21mfrom_string\u001b[39m(\u001b[38;5;28minput\u001b[39m, output_path\u001b[38;5;241m=\u001b[39m\u001b[38;5;28;01mNone\u001b[39;00m, options\u001b[38;5;241m=\u001b[39m\u001b[38;5;28;01mNone\u001b[39;00m, toc\u001b[38;5;241m=\u001b[39m\u001b[38;5;28;01mNone\u001b[39;00m, cover\u001b[38;5;241m=\u001b[39m\u001b[38;5;28;01mNone\u001b[39;00m, css\u001b[38;5;241m=\u001b[39m\u001b[38;5;28;01mNone\u001b[39;00m,\n\u001b[1;32m     55\u001b[0m                 configuration\u001b[38;5;241m=\u001b[39m\u001b[38;5;28;01mNone\u001b[39;00m, cover_first\u001b[38;5;241m=\u001b[39m\u001b[38;5;28;01mFalse\u001b[39;00m, verbose\u001b[38;5;241m=\u001b[39m\u001b[38;5;28;01mFalse\u001b[39;00m):\n\u001b[1;32m     56\u001b[0m     \u001b[38;5;124;03m\"\"\"\u001b[39;00m\n\u001b[1;32m     57\u001b[0m \u001b[38;5;124;03m    Convert given string or strings to PDF document\u001b[39;00m\n\u001b[1;32m     58\u001b[0m \n\u001b[0;32m   (...)\u001b[0m\n\u001b[1;32m     69\u001b[0m \u001b[38;5;124;03m    Returns: True on success\u001b[39;00m\n\u001b[1;32m     70\u001b[0m \u001b[38;5;124;03m    \"\"\"\u001b[39;00m\n\u001b[0;32m---> 72\u001b[0m     r \u001b[38;5;241m=\u001b[39m \u001b[43mPDFKit\u001b[49m\u001b[43m(\u001b[49m\u001b[38;5;28;43minput\u001b[39;49m\u001b[43m,\u001b[49m\u001b[43m \u001b[49m\u001b[38;5;124;43m'\u001b[39;49m\u001b[38;5;124;43mstring\u001b[39;49m\u001b[38;5;124;43m'\u001b[39;49m\u001b[43m,\u001b[49m\u001b[43m \u001b[49m\u001b[43moptions\u001b[49m\u001b[38;5;241;43m=\u001b[39;49m\u001b[43moptions\u001b[49m\u001b[43m,\u001b[49m\u001b[43m \u001b[49m\u001b[43mtoc\u001b[49m\u001b[38;5;241;43m=\u001b[39;49m\u001b[43mtoc\u001b[49m\u001b[43m,\u001b[49m\u001b[43m \u001b[49m\u001b[43mcover\u001b[49m\u001b[38;5;241;43m=\u001b[39;49m\u001b[43mcover\u001b[49m\u001b[43m,\u001b[49m\u001b[43m \u001b[49m\u001b[43mcss\u001b[49m\u001b[38;5;241;43m=\u001b[39;49m\u001b[43mcss\u001b[49m\u001b[43m,\u001b[49m\n\u001b[1;32m     73\u001b[0m \u001b[43m               \u001b[49m\u001b[43mconfiguration\u001b[49m\u001b[38;5;241;43m=\u001b[39;49m\u001b[43mconfiguration\u001b[49m\u001b[43m,\u001b[49m\u001b[43m \u001b[49m\u001b[43mcover_first\u001b[49m\u001b[38;5;241;43m=\u001b[39;49m\u001b[43mcover_first\u001b[49m\u001b[43m,\u001b[49m\u001b[43m \u001b[49m\u001b[43mverbose\u001b[49m\u001b[38;5;241;43m=\u001b[39;49m\u001b[43mverbose\u001b[49m\u001b[43m)\u001b[49m\n\u001b[1;32m     75\u001b[0m     \u001b[38;5;28;01mreturn\u001b[39;00m r\u001b[38;5;241m.\u001b[39mto_pdf(output_path)\n",
      "File \u001b[0;32m~/.local/lib/python3.10/site-packages/pdfkit/pdfkit.py:45\u001b[0m, in \u001b[0;36mPDFKit.__init__\u001b[0;34m(self, url_or_file, type_, options, toc, cover, css, configuration, cover_first, verbose)\u001b[0m\n\u001b[1;32m     41\u001b[0m \u001b[38;5;28;01mdef\u001b[39;00m \u001b[38;5;21m__init__\u001b[39m(\u001b[38;5;28mself\u001b[39m, url_or_file, type_, options\u001b[38;5;241m=\u001b[39m\u001b[38;5;28;01mNone\u001b[39;00m, toc\u001b[38;5;241m=\u001b[39m\u001b[38;5;28;01mNone\u001b[39;00m, cover\u001b[38;5;241m=\u001b[39m\u001b[38;5;28;01mNone\u001b[39;00m,\n\u001b[1;32m     42\u001b[0m              css\u001b[38;5;241m=\u001b[39m\u001b[38;5;28;01mNone\u001b[39;00m, configuration\u001b[38;5;241m=\u001b[39m\u001b[38;5;28;01mNone\u001b[39;00m, cover_first\u001b[38;5;241m=\u001b[39m\u001b[38;5;28;01mFalse\u001b[39;00m, verbose\u001b[38;5;241m=\u001b[39m\u001b[38;5;28;01mFalse\u001b[39;00m):\n\u001b[1;32m     44\u001b[0m     \u001b[38;5;28mself\u001b[39m\u001b[38;5;241m.\u001b[39msource \u001b[38;5;241m=\u001b[39m Source(url_or_file, type_)\n\u001b[0;32m---> 45\u001b[0m     \u001b[38;5;28mself\u001b[39m\u001b[38;5;241m.\u001b[39mconfiguration \u001b[38;5;241m=\u001b[39m (\u001b[43mConfiguration\u001b[49m\u001b[43m(\u001b[49m\u001b[43m)\u001b[49m \u001b[38;5;28;01mif\u001b[39;00m configuration \u001b[38;5;129;01mis\u001b[39;00m \u001b[38;5;28;01mNone\u001b[39;00m\n\u001b[1;32m     46\u001b[0m                           \u001b[38;5;28;01melse\u001b[39;00m configuration)\n\u001b[1;32m     47\u001b[0m     \u001b[38;5;28;01mtry\u001b[39;00m:\n\u001b[1;32m     48\u001b[0m         \u001b[38;5;28mself\u001b[39m\u001b[38;5;241m.\u001b[39mwkhtmltopdf \u001b[38;5;241m=\u001b[39m \u001b[38;5;28mself\u001b[39m\u001b[38;5;241m.\u001b[39mconfiguration\u001b[38;5;241m.\u001b[39mwkhtmltopdf\u001b[38;5;241m.\u001b[39mdecode(\u001b[38;5;124m'\u001b[39m\u001b[38;5;124mutf-8\u001b[39m\u001b[38;5;124m'\u001b[39m)\n",
      "File \u001b[0;32m~/.local/lib/python3.10/site-packages/pdfkit/configuration.py:38\u001b[0m, in \u001b[0;36mConfiguration.__init__\u001b[0;34m(self, wkhtmltopdf, meta_tag_prefix, environ)\u001b[0m\n\u001b[1;32m     36\u001b[0m         \u001b[38;5;28;01mpass\u001b[39;00m\n\u001b[1;32m     37\u001b[0m \u001b[38;5;28;01mexcept\u001b[39;00m (\u001b[38;5;167;01mIOError\u001b[39;00m, \u001b[38;5;167;01mFileNotFoundError\u001b[39;00m) \u001b[38;5;28;01mas\u001b[39;00m e:\n\u001b[0;32m---> 38\u001b[0m     \u001b[38;5;28;01mraise\u001b[39;00m \u001b[38;5;167;01mIOError\u001b[39;00m(\u001b[38;5;124m'\u001b[39m\u001b[38;5;124mNo wkhtmltopdf executable found: \u001b[39m\u001b[38;5;124m\"\u001b[39m\u001b[38;5;132;01m%s\u001b[39;00m\u001b[38;5;124m\"\u001b[39m\u001b[38;5;130;01m\\n\u001b[39;00m\u001b[38;5;124m'\u001b[39m\n\u001b[1;32m     39\u001b[0m                   \u001b[38;5;124m'\u001b[39m\u001b[38;5;124mIf this file exists please check that this process can \u001b[39m\u001b[38;5;124m'\u001b[39m\n\u001b[1;32m     40\u001b[0m                   \u001b[38;5;124m'\u001b[39m\u001b[38;5;124mread it or you can pass path to it manually in method call, \u001b[39m\u001b[38;5;124m'\u001b[39m\n\u001b[1;32m     41\u001b[0m                   \u001b[38;5;124m'\u001b[39m\u001b[38;5;124mcheck README. Otherwise please install wkhtmltopdf - \u001b[39m\u001b[38;5;124m'\u001b[39m\n\u001b[1;32m     42\u001b[0m                   \u001b[38;5;124m'\u001b[39m\u001b[38;5;124mhttps://github.com/JazzCore/python-pdfkit/wiki/Installing-wkhtmltopdf\u001b[39m\u001b[38;5;124m'\u001b[39m \u001b[38;5;241m%\u001b[39m \u001b[38;5;28mself\u001b[39m\u001b[38;5;241m.\u001b[39mwkhtmltopdf)\n\u001b[1;32m     45\u001b[0m \u001b[38;5;28mself\u001b[39m\u001b[38;5;241m.\u001b[39menviron \u001b[38;5;241m=\u001b[39m environ\n\u001b[1;32m     47\u001b[0m \u001b[38;5;28;01mif\u001b[39;00m \u001b[38;5;129;01mnot\u001b[39;00m \u001b[38;5;28mself\u001b[39m\u001b[38;5;241m.\u001b[39menviron:\n",
      "\u001b[0;31mOSError\u001b[0m: No wkhtmltopdf executable found: \"b''\"\nIf this file exists please check that this process can read it or you can pass path to it manually in method call, check README. Otherwise please install wkhtmltopdf - https://github.com/JazzCore/python-pdfkit/wiki/Installing-wkhtmltopdf"
     ]
    }
   ],
   "source": [
    "import pdfkit\n",
    "import markdown\n",
    "\n",
    "# Convert Markdown to HTML\n",
    "html_text = markdown.markdown(text)\n",
    "\n",
    "# Create a PDF file\n",
    "\n",
    "pdfkit.from_string(html_text, 'projectile_motion.pdf')\n",
    "    \n",
    "\n",
    "print(\"PDF created successfully!\")\n"
   ]
  },
  {
   "cell_type": "code",
   "execution_count": null,
   "metadata": {},
   "outputs": [],
   "source": [
    "import matplotlib.pyplot as plt\n",
    "\n",
    "# Define the x-axis values (time)\n",
    "x = range(0, 10)\n",
    "\n",
    "# Define the y-axis values (height)\n",
    "y = [v0^2 \\* sin(2θ) / g for _ in x]\n",
    "\n",
    "plt.plot(x, y)\n",
    "plt.xlabel('Time (s)')\n",
    "plt.ylabel('Height (m)')\n",
    "plt.title('Projectile Motion Plot')\n",
    "plt.show()\n",
    "\n"
   ]
  },
  {
   "cell_type": "markdown",
   "metadata": {},
   "source": []
  },
  {
   "cell_type": "code",
   "execution_count": null,
   "metadata": {},
   "outputs": [],
   "source": [
    "# Convert Markdown to HTML\n",
    "html_text = markdown.markdown(text)\n",
    "\n",
    "# Create a PDF file\n",
    "pdfkit.from_string(html_text, 'projectile_motion.pdf')\n"
   ]
  }
 ],
 "metadata": {
  "kernelspec": {
   "display_name": "Python 3",
   "language": "python",
   "name": "python3"
  },
  "language_info": {
   "codemirror_mode": {
    "name": "ipython",
    "version": 3
   },
   "file_extension": ".py",
   "mimetype": "text/x-python",
   "name": "python",
   "nbconvert_exporter": "python",
   "pygments_lexer": "ipython3",
   "version": "3.10.12"
  }
 },
 "nbformat": 4,
 "nbformat_minor": 2
}
